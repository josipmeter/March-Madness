{
 "cells": [
  {
   "cell_type": "code",
   "execution_count": 1,
   "id": "915a2f2f",
   "metadata": {},
   "outputs": [],
   "source": [
    "import numpy as np\n",
    "import pandas as pd\n",
    "from sklearn.ensemble import RandomForestClassifier, ExtraTreesClassifier\n",
    "from sklearn.metrics import accuracy_score, confusion_matrix\n",
    "from sklearn.model_selection import train_test_split\n",
    "from sklearn.preprocessing import OneHotEncoder, LabelEncoder\n",
    "from sklearn.model_selection import cross_val_score\n",
    "from sklearn.feature_selection import SelectKBest, mutual_info_classif"
   ]
  },
  {
   "cell_type": "code",
   "execution_count": 2,
   "id": "2a70067c",
   "metadata": {},
   "outputs": [],
   "source": [
    "X = pd.read_csv(\"regular_season_results.csv\")"
   ]
  },
  {
   "cell_type": "code",
   "execution_count": 3,
   "id": "27e5eb91",
   "metadata": {},
   "outputs": [
    {
     "data": {
      "text/html": [
       "<div>\n",
       "<style scoped>\n",
       "    .dataframe tbody tr th:only-of-type {\n",
       "        vertical-align: middle;\n",
       "    }\n",
       "\n",
       "    .dataframe tbody tr th {\n",
       "        vertical-align: top;\n",
       "    }\n",
       "\n",
       "    .dataframe thead th {\n",
       "        text-align: right;\n",
       "    }\n",
       "</style>\n",
       "<table border=\"1\" class=\"dataframe\">\n",
       "  <thead>\n",
       "    <tr style=\"text-align: right;\">\n",
       "      <th></th>\n",
       "      <th>season</th>\n",
       "      <th>daynum</th>\n",
       "      <th>wteam</th>\n",
       "      <th>wscore</th>\n",
       "      <th>lteam</th>\n",
       "      <th>lscore</th>\n",
       "      <th>wloc</th>\n",
       "      <th>numot</th>\n",
       "    </tr>\n",
       "  </thead>\n",
       "  <tbody>\n",
       "    <tr>\n",
       "      <th>0</th>\n",
       "      <td>A</td>\n",
       "      <td>16</td>\n",
       "      <td>511</td>\n",
       "      <td>91</td>\n",
       "      <td>647</td>\n",
       "      <td>57</td>\n",
       "      <td>H</td>\n",
       "      <td>NaN</td>\n",
       "    </tr>\n",
       "    <tr>\n",
       "      <th>1</th>\n",
       "      <td>A</td>\n",
       "      <td>16</td>\n",
       "      <td>515</td>\n",
       "      <td>75</td>\n",
       "      <td>812</td>\n",
       "      <td>67</td>\n",
       "      <td>H</td>\n",
       "      <td>NaN</td>\n",
       "    </tr>\n",
       "    <tr>\n",
       "      <th>2</th>\n",
       "      <td>A</td>\n",
       "      <td>16</td>\n",
       "      <td>606</td>\n",
       "      <td>87</td>\n",
       "      <td>658</td>\n",
       "      <td>67</td>\n",
       "      <td>H</td>\n",
       "      <td>NaN</td>\n",
       "    </tr>\n",
       "    <tr>\n",
       "      <th>3</th>\n",
       "      <td>A</td>\n",
       "      <td>16</td>\n",
       "      <td>670</td>\n",
       "      <td>73</td>\n",
       "      <td>573</td>\n",
       "      <td>65</td>\n",
       "      <td>H</td>\n",
       "      <td>NaN</td>\n",
       "    </tr>\n",
       "    <tr>\n",
       "      <th>4</th>\n",
       "      <td>A</td>\n",
       "      <td>16</td>\n",
       "      <td>721</td>\n",
       "      <td>99</td>\n",
       "      <td>632</td>\n",
       "      <td>68</td>\n",
       "      <td>H</td>\n",
       "      <td>NaN</td>\n",
       "    </tr>\n",
       "  </tbody>\n",
       "</table>\n",
       "</div>"
      ],
      "text/plain": [
       "  season  daynum  wteam  wscore  lteam  lscore wloc  numot\n",
       "0      A      16    511      91    647      57    H    NaN\n",
       "1      A      16    515      75    812      67    H    NaN\n",
       "2      A      16    606      87    658      67    H    NaN\n",
       "3      A      16    670      73    573      65    H    NaN\n",
       "4      A      16    721      99    632      68    H    NaN"
      ]
     },
     "execution_count": 3,
     "metadata": {},
     "output_type": "execute_result"
    }
   ],
   "source": [
    "X.head()"
   ]
  },
  {
   "cell_type": "code",
   "execution_count": 5,
   "id": "8968240a",
   "metadata": {},
   "outputs": [
    {
     "data": {
      "text/plain": [
       "array(['season', 'daynum', 'wteam', 'wscore', 'lteam', 'lscore', 'wloc',\n",
       "       'numot'], dtype=object)"
      ]
     },
     "execution_count": 5,
     "metadata": {},
     "output_type": "execute_result"
    }
   ],
   "source": [
    "X.columns.values"
   ]
  },
  {
   "cell_type": "code",
   "execution_count": 4,
   "id": "216c01e7",
   "metadata": {},
   "outputs": [
    {
     "data": {
      "text/html": [
       "<div>\n",
       "<style scoped>\n",
       "    .dataframe tbody tr th:only-of-type {\n",
       "        vertical-align: middle;\n",
       "    }\n",
       "\n",
       "    .dataframe tbody tr th {\n",
       "        vertical-align: top;\n",
       "    }\n",
       "\n",
       "    .dataframe thead th {\n",
       "        text-align: right;\n",
       "    }\n",
       "</style>\n",
       "<table border=\"1\" class=\"dataframe\">\n",
       "  <thead>\n",
       "    <tr style=\"text-align: right;\">\n",
       "      <th></th>\n",
       "      <th>daynum</th>\n",
       "      <th>wteam</th>\n",
       "      <th>wscore</th>\n",
       "      <th>lteam</th>\n",
       "      <th>lscore</th>\n",
       "      <th>numot</th>\n",
       "    </tr>\n",
       "  </thead>\n",
       "  <tbody>\n",
       "    <tr>\n",
       "      <th>count</th>\n",
       "      <td>91224.000000</td>\n",
       "      <td>91224.000000</td>\n",
       "      <td>91224.000000</td>\n",
       "      <td>91224.000000</td>\n",
       "      <td>91224.000000</td>\n",
       "      <td>51333.000000</td>\n",
       "    </tr>\n",
       "    <tr>\n",
       "      <th>mean</th>\n",
       "      <td>73.410133</td>\n",
       "      <td>680.981058</td>\n",
       "      <td>75.370440</td>\n",
       "      <td>677.047400</td>\n",
       "      <td>63.208860</td>\n",
       "      <td>0.072000</td>\n",
       "    </tr>\n",
       "    <tr>\n",
       "      <th>std</th>\n",
       "      <td>34.210997</td>\n",
       "      <td>103.099502</td>\n",
       "      <td>11.408528</td>\n",
       "      <td>102.950054</td>\n",
       "      <td>10.940295</td>\n",
       "      <td>0.313278</td>\n",
       "    </tr>\n",
       "    <tr>\n",
       "      <th>min</th>\n",
       "      <td>0.000000</td>\n",
       "      <td>501.000000</td>\n",
       "      <td>34.000000</td>\n",
       "      <td>501.000000</td>\n",
       "      <td>20.000000</td>\n",
       "      <td>0.000000</td>\n",
       "    </tr>\n",
       "    <tr>\n",
       "      <th>25%</th>\n",
       "      <td>44.000000</td>\n",
       "      <td>592.000000</td>\n",
       "      <td>68.000000</td>\n",
       "      <td>587.000000</td>\n",
       "      <td>56.000000</td>\n",
       "      <td>0.000000</td>\n",
       "    </tr>\n",
       "    <tr>\n",
       "      <th>50%</th>\n",
       "      <td>75.000000</td>\n",
       "      <td>678.000000</td>\n",
       "      <td>75.000000</td>\n",
       "      <td>675.000000</td>\n",
       "      <td>63.000000</td>\n",
       "      <td>0.000000</td>\n",
       "    </tr>\n",
       "    <tr>\n",
       "      <th>75%</th>\n",
       "      <td>103.000000</td>\n",
       "      <td>772.000000</td>\n",
       "      <td>83.000000</td>\n",
       "      <td>768.000000</td>\n",
       "      <td>70.000000</td>\n",
       "      <td>0.000000</td>\n",
       "    </tr>\n",
       "    <tr>\n",
       "      <th>max</th>\n",
       "      <td>133.000000</td>\n",
       "      <td>856.000000</td>\n",
       "      <td>153.000000</td>\n",
       "      <td>856.000000</td>\n",
       "      <td>140.000000</td>\n",
       "      <td>6.000000</td>\n",
       "    </tr>\n",
       "  </tbody>\n",
       "</table>\n",
       "</div>"
      ],
      "text/plain": [
       "             daynum         wteam        wscore         lteam        lscore  \\\n",
       "count  91224.000000  91224.000000  91224.000000  91224.000000  91224.000000   \n",
       "mean      73.410133    680.981058     75.370440    677.047400     63.208860   \n",
       "std       34.210997    103.099502     11.408528    102.950054     10.940295   \n",
       "min        0.000000    501.000000     34.000000    501.000000     20.000000   \n",
       "25%       44.000000    592.000000     68.000000    587.000000     56.000000   \n",
       "50%       75.000000    678.000000     75.000000    675.000000     63.000000   \n",
       "75%      103.000000    772.000000     83.000000    768.000000     70.000000   \n",
       "max      133.000000    856.000000    153.000000    856.000000    140.000000   \n",
       "\n",
       "              numot  \n",
       "count  51333.000000  \n",
       "mean       0.072000  \n",
       "std        0.313278  \n",
       "min        0.000000  \n",
       "25%        0.000000  \n",
       "50%        0.000000  \n",
       "75%        0.000000  \n",
       "max        6.000000  "
      ]
     },
     "execution_count": 4,
     "metadata": {},
     "output_type": "execute_result"
    }
   ],
   "source": [
    "X.describe()"
   ]
  },
  {
   "cell_type": "code",
   "execution_count": 8,
   "id": "1dba923b",
   "metadata": {},
   "outputs": [
    {
     "data": {
      "text/plain": [
       "season     19\n",
       "daynum    134\n",
       "wteam     356\n",
       "wscore    108\n",
       "lteam     356\n",
       "lscore    104\n",
       "wloc        3\n",
       "numot       7\n",
       "dtype: int64"
      ]
     },
     "execution_count": 8,
     "metadata": {},
     "output_type": "execute_result"
    }
   ],
   "source": [
    "X.nunique()"
   ]
  },
  {
   "cell_type": "code",
   "execution_count": 5,
   "id": "40d18392",
   "metadata": {},
   "outputs": [
    {
     "data": {
      "text/plain": [
       "season        0\n",
       "daynum        0\n",
       "wteam         0\n",
       "wscore        0\n",
       "lteam         0\n",
       "lscore        0\n",
       "wloc          0\n",
       "numot     39891\n",
       "dtype: int64"
      ]
     },
     "execution_count": 5,
     "metadata": {},
     "output_type": "execute_result"
    }
   ],
   "source": [
    "X.isna().sum()"
   ]
  },
  {
   "cell_type": "code",
   "execution_count": 11,
   "id": "ef671297",
   "metadata": {},
   "outputs": [
    {
     "name": "stdout",
     "output_type": "stream",
     "text": [
      "numot > 3:  19\n",
      "numot > 4:  5\n",
      "numot > 5:  1\n"
     ]
    }
   ],
   "source": [
    "print('numot > 3: ', (X.numot > 3).sum())\n",
    "print('numot > 4: ', (X.numot > 4).sum())\n",
    "print('numot > 5: ', (X.numot > 5).sum())"
   ]
  },
  {
   "cell_type": "code",
   "execution_count": 6,
   "id": "2e4e2abc",
   "metadata": {},
   "outputs": [
    {
     "data": {
      "text/plain": [
       "42817    5.0\n",
       "49856    5.0\n",
       "57239    5.0\n",
       "64701    6.0\n",
       "84372    5.0\n",
       "Name: numot, dtype: float64"
      ]
     },
     "execution_count": 6,
     "metadata": {},
     "output_type": "execute_result"
    }
   ],
   "source": [
    "X.loc[X.numot > 4, 'numot']"
   ]
  },
  {
   "cell_type": "code",
   "execution_count": 7,
   "id": "3e31dc64",
   "metadata": {},
   "outputs": [],
   "source": [
    "import matplotlib.pyplot as plt\n",
    "import seaborn as sns"
   ]
  },
  {
   "cell_type": "code",
   "execution_count": 15,
   "id": "944932aa",
   "metadata": {},
   "outputs": [
    {
     "data": {
      "image/png": "[encoded data removed]",
      "text/plain": [
       "<Figure size 640x480 with 1 Axes>"
      ]
     },
     "metadata": {},
     "output_type": "display_data"
    }
   ],
   "source": [
    "plt.hist(X.wscore, bins=25)\n",
    "plt.axvline(X.wscore.mean(), color = 'red', label = 'mean')\n",
    "plt.axvline(X.wscore.median(), color = 'g', label = 'median')\n",
    "plt.xlabel('Winning Score')\n",
    "plt.ylabel('Count')\n",
    "plt.legend()\n",
    "plt.show()"
   ]
  },
  {
   "cell_type": "code",
   "execution_count": 16,
   "id": "8b0c8fcb",
   "metadata": {},
   "outputs": [
    {
     "data": {
      "image/png": "[encoded data removed]",
      "text/plain": [
       "<Figure size 640x480 with 1 Axes>"
      ]
     },
     "metadata": {},
     "output_type": "display_data"
    }
   ],
   "source": [
    "plt.hist(X.lscore, bins=25)\n",
    "plt.axvline(X.lscore.mean(), color = 'red', label = 'mean')\n",
    "plt.axvline(X.lscore.median(), color = 'g', label = 'median')\n",
    "plt.xlabel('Losing Score')\n",
    "plt.ylabel('Count')\n",
    "plt.legend()\n",
    "plt.show()"
   ]
  },
  {
   "cell_type": "code",
   "execution_count": null,
   "id": "536442f3",
   "metadata": {},
   "outputs": [],
   "source": []
  }
 ],
 "metadata": {
  "kernelspec": {
   "display_name": "Python 3 (ipykernel)",
   "language": "python",
   "name": "python3"
  },
  "language_info": {
   "codemirror_mode": {
    "name": "ipython",
    "version": 3
   },
   "file_extension": ".py",
   "mimetype": "text/x-python",
   "name": "python",
   "nbconvert_exporter": "python",
   "pygments_lexer": "ipython3",
   "version": "3.10.8"
  }
 },
 "nbformat": 4,
 "nbformat_minor": 5
}
